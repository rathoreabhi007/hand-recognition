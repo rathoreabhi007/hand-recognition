{
 "cells": [
  {
   "cell_type": "code",
   "execution_count": 1,
   "metadata": {},
   "outputs": [
    {
     "name": "stdout",
     "output_type": "stream",
     "text": [
      "Accuracy= 83.68095238095238\n"
     ]
    }
   ],
   "source": [
    "import numpy as np\n",
    "import matplotlib.pyplot as pt\n",
    "import pandas as pd\n",
    "from sklearn.tree import DecisionTreeClassifier\n",
    "\n",
    "data = pd.read_csv('C:\\\\Users\\\\Abhinav Singh\\\\Desktop\\\\_recognition\\\\train.csv').as_matrix()\n",
    "\n",
    "clf =DecisionTreeClassifier()\n",
    "\n",
    "#training dataset\n",
    "xtrain = data[0:21000,1:]\n",
    "train_label = data[0:21000,0]\n",
    "\n",
    "clf.fit(xtrain,train_label)\n",
    "\n",
    "#testing data\n",
    "\n",
    "xtest = data[21000:,1:]\n",
    "actual_label=data[21000:,0]\n",
    "\n",
    "p = clf.predict(xtest)\n",
    "\n",
    "count=0\n",
    "for i in range(0,21000):\n",
    "    count+=1 if p[i]==actual_label[i] else 0\n",
    "print(\"Accuracy=\",(count/21000)*100)\n",
    "\n",
    "\n"
   ]
  },
  {
   "cell_type": "code",
   "execution_count": null,
   "metadata": {
    "collapsed": true
   },
   "outputs": [],
   "source": []
  }
 ],
 "metadata": {
  "kernelspec": {
   "display_name": "Python 3",
   "language": "python",
   "name": "python3"
  },
  "language_info": {
   "codemirror_mode": {
    "name": "ipython",
    "version": 3
   },
   "file_extension": ".py",
   "mimetype": "text/x-python",
   "name": "python",
   "nbconvert_exporter": "python",
   "pygments_lexer": "ipython3",
   "version": "3.6.3"
  }
 },
 "nbformat": 4,
 "nbformat_minor": 2
}
